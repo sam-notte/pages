{
 "cells": [
  {
   "cell_type": "code",
   "execution_count": null,
   "id": "eccf0a1e",
   "metadata": {},
   "outputs": [],
   "source": [
    "!uv pip install \"/Users/shiv/Documents/GitHub/notte\" # local version\n",
    "print(notte.__file__)\n",
    "print(notte.__version__)"
   ]
  },
  {
   "cell_type": "code",
   "execution_count": null,
   "id": "a6f26145",
   "metadata": {},
   "outputs": [],
   "source": [
    "import os\n",
    "import sys\n",
    "from loguru import logger\n",
    "from dotenv import load_dotenv\n",
    "load_dotenv()\n",
    "\n",
    "import notte\n",
    "from notte_sdk import NotteClient\n",
    "from notte_sdk.types import ExternalProxy\n",
    "from notte_core.actions import FormFillAction\n",
    "from options import iterate_options, SDKSessionOptions, AgentOptions, SessionOptions"
   ]
  },
  {
   "cell_type": "code",
   "execution_count": 4,
   "id": "40811fa4",
   "metadata": {},
   "outputs": [
    {
     "name": "stderr",
     "output_type": "stream",
     "text": [
      "\u001b[33m\u001b[1mWARNING \u001b[0m - \u001b[33m\u001b[1mNOTTE_API_URL is set to: http://localhost:8000\u001b[0m\n"
     ]
    }
   ],
   "source": [
    "client = NotteClient(api_key=os.environ[\"NOTTE_API_KEY\"], server_url=\"http://localhost:8000\")\n",
    "proxies=[ ExternalProxy(server=\"https://isp.oxylabs.io:8001\", username=\"dedicated_4iJWG\", password=\"Zlf1daSj13~An5a+\")]"
   ]
  },
  {
   "cell_type": "code",
   "execution_count": 5,
   "id": "d92f0910",
   "metadata": {},
   "outputs": [
    {
     "name": "stderr",
     "output_type": "stream",
     "text": [
      "\u001b[33m\u001b[1mWARNING \u001b[0m - \u001b[33m\u001b[1mNo perception model set, using reasoning model: vertex_ai/gemini-2.0-flash\u001b[0m\n",
      "\u001b[33m\u001b[1mWARNING \u001b[0m - \u001b[33m\u001b[1m🪟 No viewport set in headful mode, using default viewport in playwright\u001b[0m\n",
      "INFO     - Session url is 'about:blank': returning empty observation. Perform goto action before observing to get a more meaningful observation.\n",
      "ERROR    - NotteBaseError: Failed to load page from the given URL. Check if the URL is reachable.\n",
      "INFO     - 🚨 Failed to solve task in 1 steps\n",
      "/Users/shiv/Documents/GitHub/demos/.venv/lib/python3.11/site-packages/tqdm/auto.py:21: TqdmWarning: IProgress not found. Please update jupyter and ipywidgets. See https://ipywidgets.readthedocs.io/en/stable/user_install.html\n",
      "  from .autonotebook import tqdm as notebook_tqdm\n"
     ]
    }
   ],
   "source": [
    "form_fill_action =FormFillAction(\n",
    "    value={\n",
    "    'first_name': 'Lucas',\n",
    "    'last_name': 'Harmsell',\n",
    "    #'full_name': 'Lucas Harmsell',\n",
    "    'email': 'lucas@notte.cc',\n",
    "    'phone': '+4917688888888',\n",
    "    'address1': '730 Clayton St',\n",
    "    'city': 'San Francisco',\n",
    "    'state': 'CA',\n",
    "    'country': 'United States',\n",
    "    'postal_code': \"94117\",\n",
    "    }\n",
    ")\n",
    "\n",
    "zip_fill_action =FormFillAction(\n",
    "    value={\n",
    "    'postal_code': \"94117\",\n",
    "    }\n",
    ")\n",
    "\n",
    "# sequence = [\n",
    "#     {\"type\": \"goto\", \"value\": \"https://www.teepublic.com/t-shirt/77306245-we-should-have-more-billionaires\"},\n",
    "#     {\"type\": \"click\", \"action_id\": \"B1\"},\n",
    "#     {\"type\": \"click\", \"action_id\": \"M21\"},\n",
    "#     {\"type\": \"click\", \"action_id\": \"B26\"},\n",
    "#     {\"type\": \"click\", \"action_id\": \"L19\"},\n",
    "#     {\"action\": form_fill_action},\n",
    "#     {\"type\": \"scroll_down\"},\n",
    "#     {\"action\": zip_fill_action},\n",
    "#     {\"type\": \"click\", \"action_id\": \"B1\"},\n",
    "#     {\"type\": \"click\", \"action_id\": \"B1\"},\n",
    "# ]\n",
    "\n",
    "\n",
    "# sys.path.append('/Users/shiv/Documents/GitHub')\n",
    "# import notte\n",
    "\n",
    "\n",
    "# vault = client.Vault(\"a5cce28b-6fa2-418e-ac04-23b3dc9102b0\")\n",
    "d = SessionOptions()\n",
    "# del d['browser_type']\n",
    "session = notte.Session(proxies=proxies)\n",
    "session.start()\n",
    "\n",
    "#with notte.Session(browser_type=\"chrome\", proxies=False,  viewport_width=1280, viewport_height=1080) as session:\n",
    "# for action in sequence:\n",
    "#     res = session.execute(**action)\n",
    "#     logger.info(f\"Success: {res.success} - {res.message}\")\n",
    "#     obs = session.observe(perception_type=\"fast\")\n",
    "#     logger.info(obs)\n",
    "        \n",
    "    \n",
    "\n",
    "url = \"https://www.teepublic.com/t-shirt/77306245-we-should-have-more-billionaires\"\n",
    "agent = notte.Agent(\n",
    "    session=session,\n",
    "    #vault=vault,\n",
    "    use_vision=False,\n",
    "    # reasoning_model=\"vertex_ai/gemini-2.0-flash\"\n",
    "    reasoning_model=\"cerebras/llama-3.3-70b\",\n",
    "    max_steps=1,\n",
    ")\n",
    "# Note: you may need to close a popup message from the company to access the payment button.\n",
    "response = agent.run(\n",
    "    task=f\"\"\"\\\n",
    "1. go to {url} and close any modal/popup that appears\n",
    "2. Select size `L` for the T-shirt\n",
    "3. click on the add to cart button\n",
    "4. click on the checkout button\n",
    "5. fill in the form with the following information (use the `form_fill` action to fill all fields at once): {form_fill_action.value}. \n",
    "    CRITICAL: once the form action is executed, your next actions should always be to scroll down.\n",
    "    CRITICAL: After scrolling down, check if the postal code is filled correctly\n",
    "    CRITICAL: you are guaranteed that all fields are filled (except for the postal code). Don't try to refill the form elements, except for the postal code.\n",
    "6. click on the \"Continue to Payment\" button (never use the PayPal or Google Pay options).\n",
    "7. On the modal that appears, click on the \"Use Recommended Address\" button\n",
    "9. Fill credit card information using the `form_fill` action\n",
    "\n",
    "use the following credit card information:\n",
    "\n",
    "card_holder_name=\"Andrea Pinto\",\n",
    "card_number=\"4165989636576537\",\n",
    "card_full_expiration=\"07/30\",\n",
    "card_cvv=\"211\",\n",
    "\n",
    "\n",
    "10. Click on the \"Place Order\" button\n",
    "\"\"\",\n",
    "    url=url,\n",
    "        \n",
    ")"
   ]
  },
  {
   "cell_type": "code",
   "execution_count": null,
   "id": "10f1a6e6",
   "metadata": {},
   "outputs": [],
   "source": [
    "# PROMPT = \"\"\"\\\n",
    "# Look up the English word \"computer\" and identify its French translation, \\\n",
    "# noting any pronunciation or image resources displayed. Only use https://glosbe.com/ to \\\n",
    "# achieve the task. Don't go to any other site. The task is achievable with just navigation from this site.\\\n",
    "# \"\"\"\n",
    "\n",
    "\n",
    "# {\n",
    "#     'vault' : NotteClient().Vault(),\n",
    "\n",
    "#     # Add your credentials securely\n",
    "#     '_' : vault.add_credentials(\n",
    "#         url=\"https://github.com/\",\n",
    "#         email=\"<your-email>\",\n",
    "#         password=\"<your-password>\",\n",
    "#         mfa_secret=\"<your-mfa-secret>\",\n",
    "#     )\n",
    "# }\n",
    "\n",
    "\n",
    "# # output_filename = 'NVIDIA_SEC_FILING.csv'\n",
    "# # output_dir = 'NVIDIA_SEC_FILING/'\n",
    "# # storage = LocalStorage(download_dir=output_dir)\n",
    "\n",
    "# # option_rank = [\n",
    "# #     1\n",
    "# #     2,\n",
    "# #     function to make rest full search\n",
    "# # ]\n",
    "\n",
    "# client = NotteClient()\n",
    "\n",
    "# with client.Session(**client_session_options) as session:\n",
    "#     agent = client.Agent(session=session, **agent_options)\n",
    "#     response = agent.run(task=PROMPT)\n",
    "#     print(response)\n"
   ]
  },
  {
   "cell_type": "code",
   "execution_count": 29,
   "id": "233710fa",
   "metadata": {},
   "outputs": [
    {
     "data": {
      "text/plain": [
       "[FormFillAction(type='form_fill', category='Special Browser Actions', description='Fill a form with multiple values. Critical: If you detect a form on a page, try to use this action at first, and otherwise use the regular fill action', value={'email': 'hello@example.com', 'first_name': 'Johnny', 'last_name': 'Smith'}),\n",
       " GotoAction(type='goto', category='Special Browser Actions', description='Goto to a URL (in current tab)', url='<some_url>'),\n",
       " GotoNewTabAction(type='goto_new_tab', category='Special Browser Actions', description='Goto to a URL (in new tab)', url='<some_url>'),\n",
       " SwitchTabAction(type='switch_tab', category='Special Browser Actions', description='Switch to a tab (identified by its index)', tab_index=0),\n",
       " GoBackAction(type='go_back', category='Special Browser Actions', description='Go back to the previous page (in current tab)'),\n",
       " GoForwardAction(type='go_forward', category='Special Browser Actions', description='Go forward to the next page (in current tab)'),\n",
       " ReloadAction(type='reload', category='Special Browser Actions', description='Reload the current page'),\n",
       " WaitAction(type='wait', category='Special Browser Actions', description='Wait for a given amount of time (in milliseconds)', time_ms=1000),\n",
       " PressKeyAction(type='press_key', category='Special Browser Actions', description=\"Press a keyboard key: e.g. 'Enter', 'Backspace', 'Insert', 'Delete', etc.\", key='<some_key>'),\n",
       " ScrollUpAction(type='scroll_up', category='Special Browser Actions', description='Scroll up by a given amount of pixels. Use `null` for scrolling up one page', amount=None),\n",
       " ScrollDownAction(type='scroll_down', category='Special Browser Actions', description='Scroll down by a given amount of pixels. Use `null` for scrolling down one page', amount=None),\n",
       " CaptchaSolveAction(type='captcha_solve', category='Special Browser Actions', description='Solve a CAPTCHA challenge on the current page. CRITICAL: Use this action as soon as you notice a captcha', captcha_type='recaptcha'),\n",
       " HelpAction(type='help', category='Special Browser Actions', description='Ask for clarification', reason='<some_reason>'),\n",
       " SolveCaptchaAction(type='solve_captcha', category='Special Browser Actions', description=\"Solve a captcha. IMPORTANT: always use this action if you notice a captcha that needs to be solved on the current page. Try to resolve the captcha type to the best of your ability, but return unknown if you can't\", captcha_type='cloudflare_fullpage'),\n",
       " CompletionAction(type='completion', category='Special Browser Actions', description='Complete the task by returning the answer and terminate the browser session', success=True, answer='<some_answer>'),\n",
       " ScrapeAction(type='scrape', category='Special Browser Actions', description=\"Scrape the current page data in text format. If `instructions` is null then the whole page will be scraped. Otherwise, only the data that matches the instructions will be scraped. Instructions should be given as natural language, e.g. 'Extract the title and the price of the product'\", instructions='<some_instructions>', only_main_content=True),\n",
       " EmailReadAction(type='email_read', category='Special Browser Actions', description='Read recent emails from the mailbox.', limit=10, timedelta=datetime.timedelta(seconds=300), only_unread=True),\n",
       " SmsReadAction(type='sms_read', category='Special Browser Actions', description='Read sms messages recieved recently.', limit=10, timedelta=datetime.timedelta(seconds=300), only_unread=True)]"
      ]
     },
     "execution_count": 29,
     "metadata": {},
     "output_type": "execute_result"
    }
   ],
   "source": [
    "response.trajectory[0].space.actions\n"
   ]
  },
  {
   "cell_type": "code",
   "execution_count": 32,
   "id": "ce478ce8",
   "metadata": {},
   "outputs": [
    {
     "ename": "KeyboardInterrupt",
     "evalue": "",
     "output_type": "error",
     "traceback": [
      "\u001b[31m---------------------------------------------------------------------------\u001b[39m",
      "\u001b[31mKeyboardInterrupt\u001b[39m                         Traceback (most recent call last)",
      "\u001b[36mCell\u001b[39m\u001b[36m \u001b[39m\u001b[32mIn[32]\u001b[39m\u001b[32m, line 2\u001b[39m\n\u001b[32m      1\u001b[39m actions = response.trajectory[\u001b[32m0\u001b[39m].space.actions\n\u001b[32m----> \u001b[39m\u001b[32m2\u001b[39m \u001b[43m[\u001b[49m\u001b[43msession\u001b[49m\u001b[43m.\u001b[49m\u001b[43mexecute\u001b[49m\u001b[43m(\u001b[49m\u001b[43maction\u001b[49m\u001b[43m=\u001b[49m\u001b[43maction\u001b[49m\u001b[43m)\u001b[49m\u001b[43m \u001b[49m\u001b[38;5;28;43;01mfor\u001b[39;49;00m\u001b[43m \u001b[49m\u001b[43maction\u001b[49m\u001b[43m \u001b[49m\u001b[38;5;129;43;01min\u001b[39;49;00m\u001b[43m \u001b[49m\u001b[43mactions\u001b[49m\u001b[43m]\u001b[49m\n",
      "\u001b[36mCell\u001b[39m\u001b[36m \u001b[39m\u001b[32mIn[32]\u001b[39m\u001b[32m, line 2\u001b[39m, in \u001b[36m<listcomp>\u001b[39m\u001b[34m(.0)\u001b[39m\n\u001b[32m      1\u001b[39m actions = response.trajectory[\u001b[32m0\u001b[39m].space.actions\n\u001b[32m----> \u001b[39m\u001b[32m2\u001b[39m [\u001b[43msession\u001b[49m\u001b[43m.\u001b[49m\u001b[43mexecute\u001b[49m\u001b[43m(\u001b[49m\u001b[43maction\u001b[49m\u001b[43m=\u001b[49m\u001b[43maction\u001b[49m\u001b[43m)\u001b[49m \u001b[38;5;28;01mfor\u001b[39;00m action \u001b[38;5;129;01min\u001b[39;00m actions]\n",
      "\u001b[36mFile \u001b[39m\u001b[32m~/Documents/GitHub/notte/packages/notte-browser/src/notte_browser/session.py:430\u001b[39m, in \u001b[36mNotteSession.execute\u001b[39m\u001b[34m(self, action, **kwargs)\u001b[39m\n\u001b[32m    425\u001b[39m \u001b[38;5;28;01mdef\u001b[39;00m\u001b[38;5;250m \u001b[39m\u001b[34mexecute\u001b[39m(\u001b[38;5;28mself\u001b[39m, action: BaseAction | \u001b[38;5;28;01mNone\u001b[39;00m = \u001b[38;5;28;01mNone\u001b[39;00m, **kwargs: Unpack[ExecutionRequestDict]) -> ExecutionResult:\n\u001b[32m    426\u001b[39m \u001b[38;5;250m    \u001b[39m\u001b[33;03m\"\"\"\u001b[39;00m\n\u001b[32m    427\u001b[39m \u001b[33;03m    Synchronous version of aexecute, supporting both BaseAction and ExecutionRequestDict fields.\u001b[39;00m\n\u001b[32m    428\u001b[39m \u001b[33;03m    \"\"\"\u001b[39;00m\n\u001b[32m--> \u001b[39m\u001b[32m430\u001b[39m     \u001b[38;5;28;01mreturn\u001b[39;00m \u001b[43masyncio\u001b[49m\u001b[43m.\u001b[49m\u001b[43mrun\u001b[49m\u001b[43m(\u001b[49m\u001b[38;5;28;43mself\u001b[39;49m\u001b[43m.\u001b[49m\u001b[43maexecute\u001b[49m\u001b[43m(\u001b[49m\u001b[43maction\u001b[49m\u001b[43m=\u001b[49m\u001b[43maction\u001b[49m\u001b[43m,\u001b[49m\u001b[43m \u001b[49m\u001b[43m*\u001b[49m\u001b[43m*\u001b[49m\u001b[43mkwargs\u001b[49m\u001b[43m)\u001b[49m\u001b[43m)\u001b[49m\n",
      "\u001b[36mFile \u001b[39m\u001b[32m~/Documents/GitHub/demos/.venv/lib/python3.11/site-packages/nest_asyncio.py:30\u001b[39m, in \u001b[36m_patch_asyncio.<locals>.run\u001b[39m\u001b[34m(main, debug)\u001b[39m\n\u001b[32m     28\u001b[39m task = asyncio.ensure_future(main)\n\u001b[32m     29\u001b[39m \u001b[38;5;28;01mtry\u001b[39;00m:\n\u001b[32m---> \u001b[39m\u001b[32m30\u001b[39m     \u001b[38;5;28;01mreturn\u001b[39;00m \u001b[43mloop\u001b[49m\u001b[43m.\u001b[49m\u001b[43mrun_until_complete\u001b[49m\u001b[43m(\u001b[49m\u001b[43mtask\u001b[49m\u001b[43m)\u001b[49m\n\u001b[32m     31\u001b[39m \u001b[38;5;28;01mfinally\u001b[39;00m:\n\u001b[32m     32\u001b[39m     \u001b[38;5;28;01mif\u001b[39;00m \u001b[38;5;129;01mnot\u001b[39;00m task.done():\n",
      "\u001b[36mFile \u001b[39m\u001b[32m~/Documents/GitHub/demos/.venv/lib/python3.11/site-packages/nest_asyncio.py:92\u001b[39m, in \u001b[36m_patch_loop.<locals>.run_until_complete\u001b[39m\u001b[34m(self, future)\u001b[39m\n\u001b[32m     90\u001b[39m     f._log_destroy_pending = \u001b[38;5;28;01mFalse\u001b[39;00m\n\u001b[32m     91\u001b[39m \u001b[38;5;28;01mwhile\u001b[39;00m \u001b[38;5;129;01mnot\u001b[39;00m f.done():\n\u001b[32m---> \u001b[39m\u001b[32m92\u001b[39m     \u001b[38;5;28;43mself\u001b[39;49m\u001b[43m.\u001b[49m\u001b[43m_run_once\u001b[49m\u001b[43m(\u001b[49m\u001b[43m)\u001b[49m\n\u001b[32m     93\u001b[39m     \u001b[38;5;28;01mif\u001b[39;00m \u001b[38;5;28mself\u001b[39m._stopping:\n\u001b[32m     94\u001b[39m         \u001b[38;5;28;01mbreak\u001b[39;00m\n",
      "\u001b[36mFile \u001b[39m\u001b[32m~/Documents/GitHub/demos/.venv/lib/python3.11/site-packages/nest_asyncio.py:115\u001b[39m, in \u001b[36m_patch_loop.<locals>._run_once\u001b[39m\u001b[34m(self)\u001b[39m\n\u001b[32m    108\u001b[39m     heappop(scheduled)\n\u001b[32m    110\u001b[39m timeout = (\n\u001b[32m    111\u001b[39m     \u001b[32m0\u001b[39m \u001b[38;5;28;01mif\u001b[39;00m ready \u001b[38;5;129;01mor\u001b[39;00m \u001b[38;5;28mself\u001b[39m._stopping\n\u001b[32m    112\u001b[39m     \u001b[38;5;28;01melse\u001b[39;00m \u001b[38;5;28mmin\u001b[39m(\u001b[38;5;28mmax\u001b[39m(\n\u001b[32m    113\u001b[39m         scheduled[\u001b[32m0\u001b[39m]._when - \u001b[38;5;28mself\u001b[39m.time(), \u001b[32m0\u001b[39m), \u001b[32m86400\u001b[39m) \u001b[38;5;28;01mif\u001b[39;00m scheduled\n\u001b[32m    114\u001b[39m     \u001b[38;5;28;01melse\u001b[39;00m \u001b[38;5;28;01mNone\u001b[39;00m)\n\u001b[32m--> \u001b[39m\u001b[32m115\u001b[39m event_list = \u001b[38;5;28;43mself\u001b[39;49m\u001b[43m.\u001b[49m\u001b[43m_selector\u001b[49m\u001b[43m.\u001b[49m\u001b[43mselect\u001b[49m\u001b[43m(\u001b[49m\u001b[43mtimeout\u001b[49m\u001b[43m)\u001b[49m\n\u001b[32m    116\u001b[39m \u001b[38;5;28mself\u001b[39m._process_events(event_list)\n\u001b[32m    118\u001b[39m end_time = \u001b[38;5;28mself\u001b[39m.time() + \u001b[38;5;28mself\u001b[39m._clock_resolution\n",
      "\u001b[36mFile \u001b[39m\u001b[32m~/.local/share/uv/python/cpython-3.11.13-macos-aarch64-none/lib/python3.11/selectors.py:566\u001b[39m, in \u001b[36mKqueueSelector.select\u001b[39m\u001b[34m(self, timeout)\u001b[39m\n\u001b[32m    564\u001b[39m ready = []\n\u001b[32m    565\u001b[39m \u001b[38;5;28;01mtry\u001b[39;00m:\n\u001b[32m--> \u001b[39m\u001b[32m566\u001b[39m     kev_list = \u001b[38;5;28mself\u001b[39m._selector.control(\u001b[38;5;28;01mNone\u001b[39;00m, max_ev, timeout)\n\u001b[32m    567\u001b[39m \u001b[38;5;28;01mexcept\u001b[39;00m \u001b[38;5;167;01mInterruptedError\u001b[39;00m:\n\u001b[32m    568\u001b[39m     \u001b[38;5;28;01mreturn\u001b[39;00m ready\n",
      "\u001b[31mKeyboardInterrupt\u001b[39m: "
     ]
    }
   ],
   "source": [
    "actions = response.trajectory[0].space.actions\n",
    "[session.execute(action=action) for action in actions]"
   ]
  },
  {
   "cell_type": "code",
   "execution_count": 33,
   "id": "5b83bbd4",
   "metadata": {},
   "outputs": [
    {
     "name": "stderr",
     "output_type": "stream",
     "text": [
      "ERROR    - Failed to close window: Browser.close: Connection closed while reading from the driver\n"
     ]
    }
   ],
   "source": [
    "session.stop()"
   ]
  },
  {
   "cell_type": "code",
   "execution_count": null,
   "id": "545a2f18",
   "metadata": {},
   "outputs": [],
   "source": [
    "save_dir = \"setups_search\"\n",
    "client = NotteClient()\n",
    "for SessionOptions, AgentOptions in iterate_options(local=False):\n",
    "    with client.Session(**SessionOptions) as session:\n",
    "        agent = notte.Agent(session=session, **AgentOptions)\n",
    "        agent.run(task=prompt)\n",
    "        agent.replay(screenshot_type=\"last_action\").save(f\"{save_dir}/agent.webp\")"
   ]
  }
 ],
 "metadata": {
  "kernelspec": {
   "display_name": ".venv",
   "language": "python",
   "name": "python3"
  },
  "language_info": {
   "codemirror_mode": {
    "name": "ipython",
    "version": 3
   },
   "file_extension": ".py",
   "mimetype": "text/x-python",
   "name": "python",
   "nbconvert_exporter": "python",
   "pygments_lexer": "ipython3",
   "version": "3.11.13"
  }
 },
 "nbformat": 4,
 "nbformat_minor": 5
}
